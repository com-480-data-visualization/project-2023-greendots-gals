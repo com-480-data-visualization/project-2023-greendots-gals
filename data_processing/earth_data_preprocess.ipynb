{
 "cells": [
  {
   "cell_type": "code",
   "execution_count": 8,
   "metadata": {},
   "outputs": [],
   "source": [
    "import pandas as pd\n",
    "import csv\n",
    "import json"
   ]
  },
  {
   "cell_type": "code",
   "execution_count": 9,
   "metadata": {},
   "outputs": [],
   "source": [
    "df_person = pd.read_csv('./data/energy_person.csv')\n",
    "df_total = pd.read_csv('./data/energy_total.csv')"
   ]
  },
  {
   "cell_type": "code",
   "execution_count": 10,
   "metadata": {},
   "outputs": [],
   "source": [
    "import csv\n",
    "\n",
    "energy_data = {}\n",
    "\n",
    "with open('./data/energy_person.csv', 'r', encoding='utf-8') as file:\n",
    "    reader = csv.DictReader(file)\n",
    "    for row in reader:\n",
    "        if row['Year'] == '2019':\n",
    "            country = row['Entity']\n",
    "            consumption = row['Primary energy consumption per capita (kWh/person)']\n",
    "            energy_data[country] = consumption\n"
   ]
  },
  {
   "cell_type": "code",
   "execution_count": 14,
   "metadata": {},
   "outputs": [],
   "source": [
    "with open('./data/energy_person.csv', 'r', encoding='utf-8') as file:\n",
    "    reader = csv.reader(file)\n",
    "    next(reader)\n",
    "    energy_countries = set()\n",
    "\n",
    "    for row in reader:\n",
    "        if row[2] == '2019':\n",
    "            country = row[0]\n",
    "            cons_per = row[3]\n",
    "            energy_data_person[country] = cons_per\n",
    "            energy_countries.add(country)"
   ]
  },
  {
   "cell_type": "code",
   "execution_count": 15,
   "metadata": {},
   "outputs": [],
   "source": [
    "energy_data_person = {}\n",
    "\n",
    "with open('./data/energy_person.csv', 'r', encoding='utf-8') as file:\n",
    "    reader = csv.reader(file)\n",
    "    for row in reader:\n",
    "        if row[2] == '2019':\n",
    "            country = row[0]\n",
    "            cons_per = row[3]\n",
    "            energy_data_person[country] = cons_per\n"
   ]
  },
  {
   "cell_type": "code",
   "execution_count": 16,
   "metadata": {},
   "outputs": [],
   "source": [
    "energy_data_total = {}\n",
    "\n",
    "with open('./data/energy_total.csv', 'r', encoding='utf-8') as file:\n",
    "    reader = csv.reader(file)\n",
    "\n",
    "    for row in reader:\n",
    "        if row[2] == '2019':\n",
    "            country = row[0]\n",
    "            cons_total = row[3]\n",
    "            energy_data_total[country] = cons_total"
   ]
  },
  {
   "cell_type": "code",
   "execution_count": 17,
   "metadata": {},
   "outputs": [],
   "source": [
    "with open('./data/countries-110m-original.json', 'r', encoding='utf-8') as file:\n",
    "    topology_data = json.load(file)\n",
    "\n",
    "topo_countries = topology_data['objects']['countries']['geometries']\n",
    "topo_country_names = [country['properties']['name'] for country in topo_countries]\n"
   ]
  },
  {
   "cell_type": "code",
   "execution_count": 18,
   "metadata": {},
   "outputs": [
    {
     "name": "stdout",
     "output_type": "stream",
     "text": [
      "4\n",
      "unmatched countries:\n",
      "Fr. S. Antarctic Lands\n",
      "Somaliland\n",
      "Antarctica\n",
      "N. Cyprus\n"
     ]
    }
   ],
   "source": [
    "unmatched_countries = set(topo_country_names) - energy_countries\n",
    "print(len(unmatched_countries))\n",
    "print(\"unmatched countries:\")\n",
    "for country in unmatched_countries:\n",
    "    print(country)"
   ]
  },
  {
   "cell_type": "code",
   "execution_count": 19,
   "metadata": {},
   "outputs": [],
   "source": [
    "for country in topo_countries:\n",
    "    country_name = country['properties']['name']\n",
    "    if country_name in energy_data_person:\n",
    "        country['properties']['cons_per'] = energy_data_person[country_name]\n",
    "    if country_name in energy_data_total:\n",
    "        country['properties']['cons_total'] = energy_data_total[country_name]"
   ]
  },
  {
   "cell_type": "code",
   "execution_count": 20,
   "metadata": {},
   "outputs": [],
   "source": [
    "with open('./data/countries-110m.json', 'w', encoding='utf-8') as file:\n",
    "    json.dump(topology_data, file)\n"
   ]
  },
  {
   "cell_type": "code",
   "execution_count": 7,
   "metadata": {},
   "outputs": [
    {
     "name": "stdout",
     "output_type": "stream",
     "text": [
      "4\n",
      "unmatched countries:\n",
      "Fr. S. Antarctic Lands\n",
      "Somaliland\n",
      "Antarctica\n",
      "N. Cyprus\n"
     ]
    }
   ],
   "source": []
  },
  {
   "cell_type": "code",
   "execution_count": 61,
   "metadata": {},
   "outputs": [],
   "source": [
    "cout1 = [i[3] for i in Asia_series[0]]\n",
    "cout2 = [i[3] for i in Asia_series[-1]]"
   ]
  },
  {
   "cell_type": "code",
   "execution_count": 62,
   "metadata": {},
   "outputs": [
    {
     "data": {
      "text/plain": [
       "[]"
      ]
     },
     "execution_count": 62,
     "metadata": {},
     "output_type": "execute_result"
    }
   ],
   "source": [
    "list(set(cout1) ^ set(cout2))"
   ]
  },
  {
   "cell_type": "code",
   "execution_count": null,
   "metadata": {},
   "outputs": [],
   "source": []
  }
 ],
 "metadata": {
  "kernelspec": {
   "display_name": "base",
   "language": "python",
   "name": "python3"
  },
  "language_info": {
   "codemirror_mode": {
    "name": "ipython",
    "version": 3
   },
   "file_extension": ".py",
   "mimetype": "text/x-python",
   "name": "python",
   "nbconvert_exporter": "python",
   "pygments_lexer": "ipython3",
   "version": "3.8.5"
  },
  "orig_nbformat": 4,
  "vscode": {
   "interpreter": {
    "hash": "c18c210490060adaa726639cf2feafe3aa57fbfdb2b899bb52799ea35f0dacc0"
   }
  }
 },
 "nbformat": 4,
 "nbformat_minor": 2
}
